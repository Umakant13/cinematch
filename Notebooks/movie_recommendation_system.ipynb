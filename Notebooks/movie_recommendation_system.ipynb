{
 "cells": [
  {
   "cell_type": "code",
   "execution_count": 2,
   "id": "a4f3b017-8c2a-409b-a93a-42947ce75f9c",
   "metadata": {},
   "outputs": [],
   "source": [
    "import numpy as np\n",
    "import pandas as pd\n",
    "import ast\n",
    "import pickle\n",
    "from sklearn.feature_extraction.text import CountVectorizer\n",
    "from sklearn.metrics.pairwise import cosine_similarity"
   ]
  },
  {
   "cell_type": "code",
   "execution_count": 3,
   "id": "a6279b5e-2b2c-4851-b4df-92229c39ccac",
   "metadata": {},
   "outputs": [],
   "source": [
    "# Load datasets\n",
    "movies = pd.read_csv('tmdb_5000_movies.csv')\n",
    "credits = pd.read_csv('tmdb_5000_credits.csv')"
   ]
  },
  {
   "cell_type": "code",
   "execution_count": 4,
   "id": "9ff30533-c7b3-41c0-a169-e5ca022706d8",
   "metadata": {},
   "outputs": [],
   "source": [
    "# Merge datasets on title\n",
    "movies = movies.merge(credits, on='title')"
   ]
  },
  {
   "cell_type": "code",
   "execution_count": 5,
   "id": "3b681e08-e788-41b0-b85c-86d68e29a166",
   "metadata": {},
   "outputs": [],
   "source": [
    "# Select relevant columns\n",
    "movies = movies[['movie_id', 'title', 'overview', 'genres', 'keywords', 'cast', 'crew']]"
   ]
  },
  {
   "cell_type": "code",
   "execution_count": 6,
   "id": "fbac7153-435c-4b74-8fe2-98b38693757c",
   "metadata": {},
   "outputs": [],
   "source": [
    "# Remove rows with missing values\n",
    "movies.dropna(inplace=True)"
   ]
  },
  {
   "cell_type": "code",
   "execution_count": 7,
   "id": "e3413135-beae-4b20-851e-9ddc73a96270",
   "metadata": {},
   "outputs": [],
   "source": [
    "# Helper function to extract names from JSON-like strings\n",
    "def convert(text):\n",
    "    L = []\n",
    "    for i in ast.literal_eval(text):\n",
    "        L.append(i['name'])\n",
    "    return L\n"
   ]
  },
  {
   "cell_type": "code",
   "execution_count": 8,
   "id": "c3641637-b227-4b32-87cc-0db3bca4be5f",
   "metadata": {},
   "outputs": [],
   "source": [
    "# Helper function to extract director name from crew\n",
    "def fetch_director(text):\n",
    "    L = []\n",
    "    for i in ast.literal_eval(text):\n",
    "        if i['job'] == 'Director':\n",
    "            L.append(i['name'])\n",
    "    return L"
   ]
  },
  {
   "cell_type": "code",
   "execution_count": 9,
   "id": "6870f6fd-b4d3-42b3-a862-397628a6d35b",
   "metadata": {},
   "outputs": [],
   "source": [
    "# Helper function to remove spaces from names\n",
    "def collapse(L):\n",
    "    L1 = []\n",
    "    for i in L:\n",
    "        L1.append(i.replace(\" \", \"\"))\n",
    "    return L1"
   ]
  },
  {
   "cell_type": "code",
   "execution_count": 10,
   "id": "5e77a360-1069-4c4b-97de-62670df2c202",
   "metadata": {},
   "outputs": [],
   "source": [
    "# Process genres and keywords\n",
    "movies['genres'] = movies['genres'].apply(convert)\n",
    "movies['keywords'] = movies['keywords'].apply(convert)"
   ]
  },
  {
   "cell_type": "code",
   "execution_count": 11,
   "id": "c130e43f-c368-4d8f-8263-2fe86cb16810",
   "metadata": {},
   "outputs": [],
   "source": [
    "# Process cast (top 3 actors only)\n",
    "movies['cast'] = movies['cast'].apply(convert)\n",
    "movies['cast'] = movies['cast'].apply(lambda x: x[0:3])"
   ]
  },
  {
   "cell_type": "code",
   "execution_count": 12,
   "id": "2af3eaf1-ba04-499f-8551-06287b438423",
   "metadata": {},
   "outputs": [],
   "source": [
    "# Process crew (director only)\n",
    "movies['crew'] = movies['crew'].apply(fetch_director)\n"
   ]
  },
  {
   "cell_type": "code",
   "execution_count": 13,
   "id": "5236f1a2-445c-40d1-9355-ff0423d2d241",
   "metadata": {},
   "outputs": [],
   "source": [
    "# Remove spaces from all list items\n",
    "movies['cast'] = movies['cast'].apply(collapse)\n",
    "movies['crew'] = movies['crew'].apply(collapse)\n",
    "movies['genres'] = movies['genres'].apply(collapse)\n",
    "movies['keywords'] = movies['keywords'].apply(collapse)"
   ]
  },
  {
   "cell_type": "code",
   "execution_count": 14,
   "id": "bcd06ce4-3b92-4da2-b11c-fb3148d63a8a",
   "metadata": {},
   "outputs": [],
   "source": [
    "# Convert overview to list of words\n",
    "movies['overview'] = movies['overview'].apply(lambda x: x.split())"
   ]
  },
  {
   "cell_type": "code",
   "execution_count": 15,
   "id": "b994d2c8-5a06-4712-8c6a-6d3541668339",
   "metadata": {},
   "outputs": [],
   "source": [
    "# Combine all features into tags\n",
    "movies['tags'] = movies['overview'] + movies['genres'] + movies['keywords'] + movies['cast'] + movies['crew']"
   ]
  },
  {
   "cell_type": "code",
   "execution_count": 16,
   "id": "508e9c78-35f7-4c58-9267-cd04bc18a59e",
   "metadata": {},
   "outputs": [],
   "source": [
    "# Create final dataframe with only required columns\n",
    "new = movies.drop(columns=['overview', 'genres', 'keywords', 'cast', 'crew'])"
   ]
  },
  {
   "cell_type": "code",
   "execution_count": 17,
   "id": "426ef102-e462-4865-aef3-2e7148579be7",
   "metadata": {},
   "outputs": [],
   "source": [
    "# Convert tags list to string\n",
    "new['tags'] = new['tags'].apply(lambda x: \" \".join(x))"
   ]
  },
  {
   "cell_type": "code",
   "execution_count": 18,
   "id": "f6e90cb7-5cf4-4443-9670-0c45e8132e31",
   "metadata": {},
   "outputs": [],
   "source": [
    "# Create count vectorizer with top 5000 features\n",
    "cv = CountVectorizer(max_features=5000, stop_words='english')\n",
    "vector = cv.fit_transform(new['tags']).toarray()"
   ]
  },
  {
   "cell_type": "code",
   "execution_count": 19,
   "id": "1645ecf7-c099-4e56-b7d4-fb4eb1bcc693",
   "metadata": {},
   "outputs": [],
   "source": [
    "# Calculate cosine similarity\n",
    "similarity = cosine_similarity(vector)"
   ]
  },
  {
   "cell_type": "code",
   "execution_count": 20,
   "id": "ae952a14-4cbd-45f0-8a1b-6938ef822604",
   "metadata": {},
   "outputs": [],
   "source": [
    "# Recommendation function\n",
    "def recommend(movie):\n",
    "    index = new[new['title'] == movie].index[0]\n",
    "    distances = sorted(list(enumerate(similarity[index])), reverse=True, key=lambda x: x[1])\n",
    "    for i in distances[1:6]:\n",
    "        print(new.iloc[i[0]].title)"
   ]
  },
  {
   "cell_type": "code",
   "execution_count": 21,
   "id": "d37e2bf0-f44f-405c-b94f-f625230e044e",
   "metadata": {},
   "outputs": [
    {
     "name": "stdout",
     "output_type": "stream",
     "text": [
      "Titan A.E.\n",
      "Small Soldiers\n",
      "Ender's Game\n",
      "Aliens vs Predator: Requiem\n",
      "Independence Day\n"
     ]
    }
   ],
   "source": [
    "# Test the recommendation system\n",
    "recommend('Avatar')"
   ]
  },
  {
   "cell_type": "code",
   "execution_count": 23,
   "id": "17eed230-8014-44fe-94c1-8c38b72bc47c",
   "metadata": {},
   "outputs": [],
   "source": [
    "# Save the model and data\n",
    "pickle.dump(new, open('movie_list.pkl', 'wb'))\n",
    "pickle.dump(similarity, open('similarity.pkl', 'wb'))"
   ]
  },
  {
   "cell_type": "code",
   "execution_count": null,
   "id": "cbc1b6c2-0c10-4db4-904e-c554be0306f5",
   "metadata": {},
   "outputs": [],
   "source": []
  }
 ],
 "metadata": {
  "kernelspec": {
   "display_name": "Python 3 (ipykernel)",
   "language": "python",
   "name": "python3"
  },
  "language_info": {
   "codemirror_mode": {
    "name": "ipython",
    "version": 3
   },
   "file_extension": ".py",
   "mimetype": "text/x-python",
   "name": "python",
   "nbconvert_exporter": "python",
   "pygments_lexer": "ipython3",
   "version": "3.13.9"
  }
 },
 "nbformat": 4,
 "nbformat_minor": 5
}
